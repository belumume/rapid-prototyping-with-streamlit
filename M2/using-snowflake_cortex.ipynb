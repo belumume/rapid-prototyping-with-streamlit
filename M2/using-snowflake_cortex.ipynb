{
 "metadata": {
  "kernelspec": {
   "display_name": "Streamlit Notebook",
   "name": "streamlit"
  },
  "lastEditStatus": {
   "notebookId": "ul24eispk46zkivrkfk2",
   "authorId": "6841714608330",
   "authorName": "CHANINN",
   "authorEmail": "chanin.nantasenamat@snowflake.com",
   "sessionId": "f5bdae1c-3d17-44a2-b963-d022036afa59",
   "lastEditTime": 1745895067140
  }
 },
 "nbformat_minor": 5,
 "nbformat": 4,
 "cells": [
  {
   "cell_type": "markdown",
   "id": "52d17aaa-4d97-4928-9daf-1461b3c03496",
   "metadata": {
    "name": "md_using_cortex",
    "collapsed": false
   },
   "source": "# Using Snowflake Cortex ❄️🤖\n\nSnowflake Cortex gives you instant access to industry-leading large language models (LLMs) trained by researchers at companies like Anthropic, Mistral, Reka, Meta, and Google, including Snowflake's own Arctic, an open enterprise-grade model.\n\nIn this notebook, we'll cover only selected Cortex functions used in this course. "
  },
  {
   "cell_type": "markdown",
   "id": "3e0da69e-3866-43a3-9a1d-b3677d7b23b0",
   "metadata": {
    "name": "md_cortex",
    "collapsed": false
   },
   "source": "## Snowflake Cortex\n\nCortex can be used via a SQL query or the Python SDK.\n\nIn a nutshell, there are 3 major LLM functions that we'll also cover here:\n1. `COMPLETE` function\n2. Helper functions (`COUNT_TOKENS`, `SPLIT_TEXT_RECURSIVE_CHARACTER`)\n3. Task-specific functions (`PARSE_DOCUMENT`, `SENTIMENT`, `TRANSLATE`)"
  },
  {
   "cell_type": "markdown",
   "id": "94977523-571f-44c9-9055-90fd90d1b497",
   "metadata": {
    "name": "md_prerequisites",
    "collapsed": false
   },
   "source": "## Prerequisite libraries\nInstall these packages: `snowflake` and `snowflake-ml-python`\n- In the top menu bar, click on \"Packages\" \n- In \"Anaconda Packages\" tab find \"Find Packages\" text box and enter `snowflake` then `snowflake-ml-python`\n- Wait a few moments for packages to install"
  },
  {
   "cell_type": "markdown",
   "id": "e759414d-6892-4c8b-babe-124119509b25",
   "metadata": {
    "name": "md_complete",
    "collapsed": false
   },
   "source": "## 1. `COMPLETE` function\n\nGiven a prompt, generates a response (completion) using your choice of supported language model.\n\nLearn more about [COMPLETE](https://docs.snowflake.com/en/sql-reference/functions/complete-snowflake-cortex)\n\n"
  },
  {
   "cell_type": "markdown",
   "id": "751e5e4e-4902-4a15-ac36-1ec35b0b4470",
   "metadata": {
    "name": "md_sql",
    "collapsed": false
   },
   "source": "### SQL\n\nFirst, we'll start by using Cortex in a SQL cell."
  },
  {
   "cell_type": "code",
   "id": "0eebcb6e-e7e2-4ea1-b9e1-267cb0d8bf19",
   "metadata": {
    "language": "sql",
    "name": "sql_cortex"
   },
   "outputs": [],
   "source": "SELECT SNOWFLAKE.CORTEX.COMPLETE(\n    'claude-3-5-sonnet', \n    'What is Python?'\n) as RESPONSE;",
   "execution_count": null
  },
  {
   "cell_type": "markdown",
   "id": "ac6f1a61-8c3f-437a-a127-9c9fb49f618b",
   "metadata": {
    "name": "md_sql_in_Python",
    "collapsed": false
   },
   "source": "To use Cortex via a SQL query in Python, we'll start by getting an active Snowflake session. \n\nNext, we'll use the `snowflake.cortex.complete` SQL function in Python via `session.sql()`."
  },
  {
   "cell_type": "code",
   "id": "3775908f-ca36-4846-8f38-5adca39217f2",
   "metadata": {
    "language": "python",
    "name": "py_session"
   },
   "source": "# Get active Snowflake session\n\nfrom snowflake.snowpark.context import get_active_session\n\nsession = get_active_session()",
   "execution_count": null,
   "outputs": []
  },
  {
   "cell_type": "code",
   "id": "721b30fd-2df5-4120-a5cd-5d929d476be7",
   "metadata": {
    "language": "python",
    "name": "py_sql_cortex",
    "codeCollapsed": false
   },
   "outputs": [],
   "source": "session.sql(\"SELECT SNOWFLAKE.CORTEX.COMPLETE('claude-3-5-sonnet', 'What is Python?') as RESPONSE;\")",
   "execution_count": null
  },
  {
   "cell_type": "markdown",
   "id": "ef0e99cd-bd68-49a9-b741-2f68928d9c43",
   "metadata": {
    "name": "md_python",
    "collapsed": false
   },
   "source": "### Python\n\nCortex could also be run natively in Python through the `snowflake` Python library."
  },
  {
   "cell_type": "code",
   "id": "d4c272d0-fe26-48ae-a9e7-bf63255acd27",
   "metadata": {
    "language": "python",
    "name": "py_cortex",
    "codeCollapsed": false
   },
   "outputs": [],
   "source": "from snowflake.cortex import complete\n\ncomplete('claude-3-5-sonnet',\"What is Python?\")",
   "execution_count": null
  },
  {
   "cell_type": "markdown",
   "id": "0ac1cd27-54ad-4892-a2ec-3fbf69825c50",
   "metadata": {
    "name": "md_helper",
    "collapsed": false
   },
   "source": "## 2. Helper functions\n\nHelper functions are purpose-built and managed functions that reduce cases of failures when running other LLM functions.\n\nFor example, by getting the count of tokens in an input prompt to ensure the call doesn’t exceed a model limit.\n\nLearn more about [Cortex LLM functions](https://docs.snowflake.com/en/user-guide/snowflake-cortex/llm-functions)"
  },
  {
   "cell_type": "markdown",
   "id": "a255fb6c-0c5d-4fcd-9bbd-c3c8dc55144b",
   "metadata": {
    "name": "md_count_tokens",
    "collapsed": false
   },
   "source": "### `COUNT_TOKENS`\n\nGiven an input text, returns the token count based on the model or Cortex function specified.\n\nLearn more about [COUNT_TOKEN](https://docs.snowflake.com/en/sql-reference/functions/count_tokens-snowflake-cortex)"
  },
  {
   "cell_type": "code",
   "id": "a7806a39-eab8-44b8-8a8c-a86c4ad8c988",
   "metadata": {
    "language": "sql",
    "name": "sql_count_tokens",
    "codeCollapsed": false
   },
   "outputs": [],
   "source": "SELECT SNOWFLAKE.CORTEX.COUNT_TOKENS(\n    'llama3-8b',\n    'The snow goggles have been a great investment for winter sports'\n) AS RESPONSE",
   "execution_count": null
  },
  {
   "cell_type": "markdown",
   "id": "1ca77739-335d-4374-b1b3-373b81c51f7b",
   "metadata": {
    "name": "md_split_text",
    "collapsed": false
   },
   "source": "### `SPLIT_TEXT_RECURSIVE_CHARACTER`\n\nThe function splits a string into shorter stings, recursively, for preprocessing text to be used with text embedding or search indexing functions. \n\nIn short, it returns an array of text chunks.\n\nLearn more about [SPLIT_TEXT_RECURSIVE_CHARACTER](https://docs.snowflake.com/en/sql-reference/functions/split_text_recursive_character-snowflake-cortex)"
  },
  {
   "cell_type": "code",
   "id": "23ed4bfa-be2c-489f-a4ec-37e48e47fffc",
   "metadata": {
    "language": "sql",
    "name": "sql_split_text"
   },
   "outputs": [],
   "source": "SELECT SNOWFLAKE.CORTEX.SPLIT_TEXT_RECURSIVE_CHARACTER (\n   'The snow goggles have been a great investment for winter sports',\n   'none',\n   15,\n   10\n) as RESPONSE;",
   "execution_count": null
  },
  {
   "cell_type": "markdown",
   "id": "4303562f-0d09-4d93-96e1-6540e74073df",
   "metadata": {
    "name": "md_task_specific",
    "collapsed": false
   },
   "source": "## 3. Task-specific LLM functions\n\nLearn more about [Task-specific functions](https://docs.snowflake.com/en/user-guide/snowflake-cortex/llm-functions#task-specific-functions)"
  },
  {
   "cell_type": "markdown",
   "id": "1bbf9a13-b085-4546-8eb8-49ba83af9187",
   "metadata": {
    "name": "md_parse",
    "collapsed": false
   },
   "source": "### `PARSE_DOCUMENTS`\n\nProvides the ability to extract text, data, and layout elements from documents.\n\nLearn more about [PARSE_DOCUMENTS](https://docs.snowflake.com/en/sql-reference/functions/parse_document-snowflake-cortex)"
  },
  {
   "cell_type": "code",
   "id": "c82316e6-ac1f-4db3-a9e0-03311e138c31",
   "metadata": {
    "language": "sql",
    "name": "sql_parse_1"
   },
   "outputs": [],
   "source": "-- Read single file\nSELECT\n  SNOWFLAKE.CORTEX.PARSE_DOCUMENT(\n    @avalanche_db.avalanche_schema.customer_reviews,\n    'review-100.docx',\n    {'mode': 'layout'}\n  ) AS layout;",
   "execution_count": null
  },
  {
   "cell_type": "code",
   "id": "67cf1310-3f8c-42f6-9ded-6825797fc7f4",
   "metadata": {
    "language": "sql",
    "name": "sql_parse_2",
    "codeCollapsed": false
   },
   "outputs": [],
   "source": "-- Read multiple files into a table\nWITH files AS (\n  SELECT \n    REPLACE(REGEXP_SUBSTR(file_url, '[^/]+$'), '%2e', '.') as filename\n  FROM DIRECTORY('@avalanche_db.avalanche_schema.customer_reviews')\n  WHERE filename LIKE '%.docx'\n)\nSELECT \n  filename,\n  SNOWFLAKE.CORTEX.PARSE_DOCUMENT(\n    @avalanche_db.avalanche_schema.customer_reviews,\n    filename,\n    {'mode': 'layout'}\n  ):content AS layout\nFROM files;",
   "execution_count": null
  },
  {
   "cell_type": "markdown",
   "id": "626f44bb-babe-46b0-87ec-dd3181df216a",
   "metadata": {
    "name": "md_sentiment",
    "collapsed": false
   },
   "source": "### `SENTIMENT`\n\nIt accepts a given English-language input text and returns an overall sentiment score in the range of -1 to 1.\n\nLearn more about [SENTIMENT](https://docs.snowflake.com/en/sql-reference/functions/sentiment-snowflake-cortex)"
  },
  {
   "cell_type": "code",
   "id": "5efc89ca-96aa-4123-ad30-bf9792dba483",
   "metadata": {
    "language": "sql",
    "name": "sql_sentiment_1",
    "codeCollapsed": false
   },
   "outputs": [],
   "source": "SELECT SNOWFLAKE.CORTEX.SENTIMENT('The snow goggles have been a great investment for winter sports')",
   "execution_count": null
  },
  {
   "cell_type": "code",
   "id": "0acd2a48-6df4-4bb3-a634-7df367e3bff7",
   "metadata": {
    "language": "sql",
    "name": "ql_sentiment_2"
   },
   "outputs": [],
   "source": "SELECT SNOWFLAKE.CORTEX.SENTIMENT('The snow goggles were okay. ')",
   "execution_count": null
  },
  {
   "cell_type": "code",
   "id": "2d4fc30e-2f4d-45b3-9741-6458b56c7c9a",
   "metadata": {
    "language": "sql",
    "name": "sql_sentiment_3",
    "codeCollapsed": false
   },
   "outputs": [],
   "source": "SELECT SNOWFLAKE.CORTEX.SENTIMENT('The snow goggles was not worth the money')",
   "execution_count": null
  },
  {
   "cell_type": "code",
   "id": "bbd18d6b-d8a5-48dc-8003-8f434b866976",
   "metadata": {
    "language": "sql",
    "name": "sql_sentiment_4",
    "codeCollapsed": false
   },
   "outputs": [],
   "source": "SELECT SNOWFLAKE.CORTEX.SENTIMENT('I would never buy the snow goggles again!')",
   "execution_count": null
  },
  {
   "cell_type": "markdown",
   "id": "13ddb212-e245-40f8-b7fc-e9a6efdf5d54",
   "metadata": {
    "name": "md_summarize",
    "collapsed": false
   },
   "source": "### `SUMMARIZE`\n\nSummarizes the given English-language input text.\n\nLearn more about [SUMMARIZE](https://docs.snowflake.com/en/sql-reference/functions/summarize-snowflake-cortex)"
  },
  {
   "cell_type": "code",
   "id": "0ccad385-023a-4a4f-9c85-8c3247dca9cc",
   "metadata": {
    "language": "sql",
    "name": "sql_summarize",
    "codeCollapsed": false
   },
   "outputs": [],
   "source": "SELECT SNOWFLAKE.CORTEX.SUMMARIZE(\n    'A critical aspect of any backpack, especially an avalanche safety pack where stability and quick access to controls are vital, is its ability to fit the user properly. We evaluated the fit and adjustability range of this specific Avalanche Safety Pack across two significantly different \"users: myself at 6 2 with a longer torso, and my partner at 5 5 with a shorter torso. The results regarding its versatility were quite positive. The pack incorporates an effective torso length adjustment system, which allowed both of us to position the pack correctly so the padded hip belt rested properly on our iliac crests, bearing the majority of the load. Once the torso length was set, the shoulder straps offered ample adjustment range, and the load lifter straps effectively pulled the top of the pack closer to the shoulders, enhancing stability and comfort for both our builds. When properly cinched down, the pack remained impressively stable during simulated skiing movements and did not sway or shift excessively, which is crucial for maintaining balance and control.'\n    ) AS RESPONSE",
   "execution_count": null
  },
  {
   "cell_type": "markdown",
   "id": "f5be5fe4-bd22-4136-869d-467b28b81058",
   "metadata": {
    "name": "md_translate",
    "collapsed": false
   },
   "source": "### `TRANSLATE`\n\nTranslates the given input text from one supported language to another.\n\nLearn more about [TRANSLATE](https://docs.snowflake.com/en/sql-reference/functions/translate-snowflake-cortex)"
  },
  {
   "cell_type": "code",
   "id": "564b7960-a220-4c36-95e8-3f1edd94ecac",
   "metadata": {
    "language": "sql",
    "name": "cell1"
   },
   "outputs": [],
   "source": "SELECT SNOWFLAKE.CORTEX.TRANSLATE(\n    'A critical aspect of any backpack, especially an avalanche safety pack where stability and quick access to controls are vital, is its ability to fit the user properly. We evaluated the fit and adjustability range of this specific Avalanche Safety Pack across two significantly different \"users: myself at 6 2 with a longer torso, and my partner at 5 5 with a shorter torso. The results regarding its versatility were quite positive. The pack incorporates an effective torso length adjustment system, which allowed both of us to position the pack correctly so the padded hip belt rested properly on our iliac crests, bearing the majority of the load. Once the torso length was set, the shoulder straps offered ample adjustment range, and the load lifter straps effectively pulled the top of the pack closer to the shoulders, enhancing stability and comfort for both our builds. When properly cinched down, the pack remained impressively stable during simulated skiing movements and did not sway or shift excessively, which is crucial for maintaining balance and control.',\n    'en', 'de'\n    ) AS RESPONSE",
   "execution_count": null
  },
  {
   "cell_type": "markdown",
   "id": "bc6a85f9-a499-42f8-a853-7ca377e4468e",
   "metadata": {
    "name": "md_resources",
    "collapsed": false
   },
   "source": "## Resources\n\n- [Snowflake Cortex AI](https://www.snowflake.com/en/product/features/cortex/)\n- [Snowflake Documentation](https://docs.snowflake.com/)\n- [Large Language Model (LLM) Functions (Snowflake Cortex)](https://docs.snowflake.com/en/user-guide/snowflake-cortex/llm-functions)\n- Read SQL reference on [COMPLETE](https://docs.snowflake.com/en/sql-reference/functions/complete-snowflake-cortex), [PARSE_DOCUMENT](https://docs.snowflake.com/en/sql-reference/functions/parse_document-snowflake-cortex), [SENTIMENT](https://docs.snowflake.com/en/sql-reference/functions/sentiment-snowflake-cortex), [SUMMARIZE](https://docs.snowflake.com/en/sql-reference/functions/summarize-snowflake-cortex) and [TRANSLATE](https://docs.snowflake.com/en/sql-reference/functions/translate-snowflake-cortex)"
  }
 ]
}