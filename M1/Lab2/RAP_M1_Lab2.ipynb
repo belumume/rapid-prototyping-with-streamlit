{
 "cells": [
  {
   "cell_type": "markdown",
   "id": "aef3c2f5-a15b-47c3-a221-f53283727fe5",
   "metadata": {},
   "source": [
    "# Rapid Prototyping with Streamlit on Snowflake\n",
    "## Lab 2\n",
    "This lab is designed to help you setup Streamlit in your local development environment. \n",
    "\n",
    "**Requirements:**\n",
    "- Python3.x\n",
    "- Mac/Linux terminal or Windows Powershell \n",
    "\n",
    "#### Installing Streamlit\n",
    "After ensuring you have the latest verison of python installed, from you terminal/powershell window enter the following command: "
   ]
  },
  {
   "cell_type": "raw",
   "id": "211d255b-296f-4426-ac48-971bc730ee14",
   "metadata": {},
   "source": [
    "# Run first time \n",
    "!pip install python"
   ]
  },
  {
   "cell_type": "markdown",
   "id": "934262be-9141-474d-8f83-c054b060a527",
   "metadata": {},
   "source": [
    "You can check if the installation was successful by running the following command. "
   ]
  },
  {
   "cell_type": "raw",
   "id": "ef119c27-f97e-4e31-bfd9-3c45f1d00a05",
   "metadata": {},
   "source": [
    "!streamlit hello"
   ]
  },
  {
   "cell_type": "markdown",
   "id": "b80d6d56-ed92-4bfc-a29c-dcd76f191e64",
   "metadata": {},
   "source": [
    "If the installation was successful, you should see a pop-up or browser tab with a demo app that looks something like this: \n",
    "<img src=\"streamlit_hello.png\" style=\"height:50px\">\n",
    "\n",
    "**For troubleshooting, please check out the [streamlit.io installation page](https://docs.streamlit.io/get-started/installation).**"
   ]
  },
  {
   "cell_type": "markdown",
   "id": "64754537-4134-49d4-9bd0-82a9cc64e2d3",
   "metadata": {},
   "source": [
    "Notice that the streamlit demo app provides you with a local URL, which by default is:\n",
    "http://localhost:8501\n",
    "\n",
    "Open this URL in your browser to interact with the Welcome Page for the streamlit app. "
   ]
  },
  {
   "cell_type": "markdown",
   "id": "b742454a-1fd4-4530-a89b-ca43b5d166a2",
   "metadata": {},
   "source": [
    "### Using Streamlit\n",
    "Next we will create a very simple test script as your very first streamlit app. Save this code as a python file that can be run using Python from the command line rather than from within Jupyter Notebook. We will name the file `streamlit_app.py`. \n",
    "\n",
    "To use Streamlit in a script, you just need to import the streamlit package. "
   ]
  },
  {
   "cell_type": "raw",
   "id": "9b5892ac-eb2d-4bcc-b252-f8892342c7ff",
   "metadata": {},
   "source": [
    "# save this as a python file and run from the command line\n",
    "import streamlit as st\n",
    "# calling streamlit's title function to display the text\n",
    "st.title(\"Hello world!\")"
   ]
  },
  {
   "cell_type": "markdown",
   "id": "b0160138-24e3-4a78-b15f-e4aed9bb46dd",
   "metadata": {},
   "source": [
    "You can save this script and run it from the command line as:"
   ]
  },
  {
   "cell_type": "raw",
   "id": "78b0da28-71f6-48b6-ac10-3eb2e09293b2",
   "metadata": {},
   "source": [
    "streamlit run streamlit_app.py"
   ]
  },
  {
   "cell_type": "markdown",
   "id": "35c2ee80-1942-4a4c-9da9-f29200baf2a6",
   "metadata": {},
   "source": [
    "Once again, you'll see the streamlit welcome page asking you for your email address. You can enter it here, or press enter to skip. \n",
    "\n",
    "Now at the URL http://localhost:8501/ you should see in large letters \"Hello world!\". Congratulations, you've just launched your first streamlit app. \n",
    "\n",
    "#### Stopping the app\n",
    "To stop the app, just enter ctrl+c from the command line window that the app is running from. "
   ]
  },
  {
   "cell_type": "markdown",
   "id": "3aca006c-d5e8-4b63-a234-ff0fdd79dbee",
   "metadata": {},
   "source": [
    "### Building a chatbot with Streamlit\n",
    "Now that you have tested out the basic functionality, we'll build a simple echo bot that takes user input and echoes it back to them. Make sure to save this code as a python file so you can try running it from the command line. "
   ]
  },
  {
   "cell_type": "raw",
   "id": "9b8dc5d8-2016-4573-9ad4-a508bd651da6",
   "metadata": {},
   "source": [
    "import streamlit as st\n",
    "st.title(\"Echo Bot\")\n",
    "\n",
    "# Initialize chat history\n",
    "if \"messages\" not in st.session_state:\n",
    "    st.session_state.messages = []\n",
    "\n",
    "# Display chat messages from history on app rerun\n",
    "for message in st.session_state.messages:\n",
    "    with st.chat_message(message[\"role\"]):\n",
    "        st.markdown(message[\"content\"])"
   ]
  },
  {
   "cell_type": "markdown",
   "id": "b3263109-b136-4e2a-bd51-53ce80a0a29b",
   "metadata": {},
   "source": [
    "This is a very simple example, but in upcoming lessons we will teach you how to build on this basic syntax to integrate visualizations, integrate generative ai, and much more. "
   ]
  },
  {
   "cell_type": "code",
   "execution_count": null,
   "id": "3366b8e8-0466-4230-84ac-a4bed8be36a9",
   "metadata": {},
   "outputs": [],
   "source": []
  }
 ],
 "metadata": {
  "kernelspec": {
   "display_name": "Python 3 (ipykernel)",
   "language": "python",
   "name": "python3"
  },
  "language_info": {
   "codemirror_mode": {
    "name": "ipython",
    "version": 3
   },
   "file_extension": ".py",
   "mimetype": "text/x-python",
   "name": "python",
   "nbconvert_exporter": "python",
   "pygments_lexer": "ipython3",
   "version": "3.12.7"
  }
 },
 "nbformat": 4,
 "nbformat_minor": 5
}
